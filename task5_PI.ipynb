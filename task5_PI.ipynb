{
 "cells": [
  {
   "cell_type": "code",
   "execution_count": 1,
   "metadata": {
    "_cell_guid": "b1076dfc-b9ad-4769-8c92-a6c4dae69d19",
    "_uuid": "8f2839f25d086af736a60e9eeb907d3b93b6e0e5"
   },
   "outputs": [],
   "source": [
    "import os\n",
    "import cv2\n",
    "import numpy as np\n",
    "import pandas as pd\n",
    "import seaborn as sns\n",
    "import keras as keras\n",
    "import tensorflow as tf\n",
    "import matplotlib.pyplot as plt\n",
    "from keras.optimizers import Adam\n",
    "from sklearn.metrics import confusion_matrix\n",
    "from tensorflow.keras.utils import plot_model\n",
    "from tensorflow.keras.models import Sequential\n",
    "\n",
    "from tensorflow.keras.applications import vgg16,VGG19\n",
    "from sklearn.model_selection import train_test_split\n",
    "from tensorflow.keras.callbacks import EarlyStopping\n",
    "from tensorflow.keras.layers import Dense,Input,Flatten\n",
    "from tensorflow.keras.utils import load_img,img_to_array\n",
    "from tensorflow.keras.layers import Conv2D,MaxPooling2D,Dropout\n",
    "from tensorflow.keras.preprocessing.image import ImageDataGenerator\n",
    "# from keras.src.layers.pooling.average_pooling2d import AvgPool2D\n",
    "from tensorflow.keras.applications.densenet import DenseNet121, DenseNet169, DenseNet201\n",
    "\n",
    "from keras.applications.inception_v3 import InceptionV3\n",
    "from keras.applications.inception_v3 import preprocess_input, decode_predictions\n",
    "from keras.preprocessing import image\n",
    "from keras.layers import Input\n",
    "from keras.models import Sequential, Model\n",
    "from keras.layers import Dense, Dropout, Activation, Flatten\n",
    "from keras.layers import Convolution2D, MaxPooling2D, ZeroPadding2D, GlobalAveragePooling2D, AveragePooling2D\n",
    "from keras.callbacks import ModelCheckpoint, CSVLogger, LearningRateScheduler, ReduceLROnPlateau\n",
    "from keras.optimizers import SGD\n",
    "from keras.regularizers import l2\n",
    "import keras.backend as K\n",
    "import math"
   ]
  },
  {
   "cell_type": "code",
   "execution_count": 5,
   "metadata": {},
   "outputs": [
    {
     "name": "stdout",
     "output_type": "stream",
     "text": [
      "Inpute Files Directory\n",
      "['.DS_Store', 'images', 'license_agreement.txt', 'meta', 'README.txt']\n",
      "\n",
      "Meta Files Directory\n",
      "['classes.txt', 'labels.txt', 'test.json', 'test.txt', 'train.json', 'train.txt']\n"
     ]
    }
   ],
   "source": [
    "print(\"Inpute Files Directory\")\n",
    "print(os.listdir('food-101'))\n",
    "\n",
    "print(\"\\nMeta Files Directory\")\n",
    "print(os.listdir('food-101/meta'))"
   ]
  },
  {
   "cell_type": "code",
   "execution_count": 6,
   "metadata": {},
   "outputs": [
    {
     "name": "stdout",
     "output_type": "stream",
     "text": [
      "['.DS_Store', 'apple_pie', 'baby_back_ribs', 'baklava', 'beef_carpaccio', 'beef_tartare', 'beet_salad', 'beignets', 'bibimbap', 'bread_pudding', 'breakfast_burrito', 'bruschetta', 'caesar_salad', 'cannoli', 'caprese_salad', 'carrot_cake', 'ceviche', 'cheesecake', 'cheese_plate', 'chicken_curry', 'chicken_quesadilla', 'chicken_wings', 'chocolate_cake', 'chocolate_mousse', 'churros', 'clam_chowder', 'club_sandwich', 'crab_cakes', 'creme_brulee', 'croque_madame', 'cup_cakes', 'deviled_eggs', 'donuts', 'dumplings', 'edamame', 'eggs_benedict', 'escargots', 'falafel', 'filet_mignon', 'fish_and_chips', 'foie_gras', 'french_fries', 'french_onion_soup', 'french_toast', 'fried_calamari', 'fried_rice', 'frozen_yogurt', 'garlic_bread', 'gnocchi', 'greek_salad', 'grilled_cheese_sandwich', 'grilled_salmon', 'guacamole', 'gyoza', 'hamburger', 'hot_and_sour_soup', 'hot_dog', 'huevos_rancheros', 'hummus', 'ice_cream', 'lasagna', 'lobster_bisque', 'lobster_roll_sandwich', 'macaroni_and_cheese', 'macarons', 'miso_soup', 'mussels', 'nachos', 'omelette', 'onion_rings', 'oysters', 'pad_thai', 'paella', 'pancakes', 'panna_cotta', 'peking_duck', 'pho', 'pizza', 'pork_chop', 'poutine', 'prime_rib', 'pulled_pork_sandwich', 'ramen', 'ravioli', 'red_velvet_cake', 'risotto', 'samosa', 'sashimi', 'scallops', 'seaweed_salad', 'shrimp_and_grits', 'spaghetti_bolognese', 'spaghetti_carbonara', 'spring_rolls', 'steak', 'strawberry_shortcake', 'sushi', 'tacos', 'takoyaki', 'tiramisu', 'tuna_tartare', 'waffles']\n"
     ]
    }
   ],
   "source": [
    "print(os.listdir('food-101/images'))"
   ]
  },
  {
   "cell_type": "code",
   "execution_count": 7,
   "metadata": {},
   "outputs": [
    {
     "name": "stdout",
     "output_type": "stream",
     "text": [
      "102\n",
      "101\n"
     ]
    },
    {
     "data": {
      "text/plain": [
       "['apple_pie',\n",
       " 'baby_back_ribs',\n",
       " 'baklava',\n",
       " 'beef_carpaccio',\n",
       " 'beef_tartare',\n",
       " 'beet_salad',\n",
       " 'beignets',\n",
       " 'bibimbap',\n",
       " 'bread_pudding',\n",
       " 'breakfast_burrito',\n",
       " 'bruschetta',\n",
       " 'caesar_salad',\n",
       " 'cannoli',\n",
       " 'caprese_salad',\n",
       " 'carrot_cake',\n",
       " 'ceviche',\n",
       " 'cheese_plate',\n",
       " 'cheesecake',\n",
       " 'chicken_curry',\n",
       " 'chicken_quesadilla',\n",
       " 'chicken_wings',\n",
       " 'chocolate_cake',\n",
       " 'chocolate_mousse',\n",
       " 'churros',\n",
       " 'clam_chowder',\n",
       " 'club_sandwich',\n",
       " 'crab_cakes',\n",
       " 'creme_brulee',\n",
       " 'croque_madame',\n",
       " 'cup_cakes',\n",
       " 'deviled_eggs',\n",
       " 'donuts',\n",
       " 'dumplings',\n",
       " 'edamame',\n",
       " 'eggs_benedict',\n",
       " 'escargots',\n",
       " 'falafel',\n",
       " 'filet_mignon',\n",
       " 'fish_and_chips',\n",
       " 'foie_gras',\n",
       " 'french_fries',\n",
       " 'french_onion_soup',\n",
       " 'french_toast',\n",
       " 'fried_calamari',\n",
       " 'fried_rice',\n",
       " 'frozen_yogurt',\n",
       " 'garlic_bread',\n",
       " 'gnocchi',\n",
       " 'greek_salad',\n",
       " 'grilled_cheese_sandwich',\n",
       " 'grilled_salmon',\n",
       " 'guacamole',\n",
       " 'gyoza',\n",
       " 'hamburger',\n",
       " 'hot_and_sour_soup',\n",
       " 'hot_dog',\n",
       " 'huevos_rancheros',\n",
       " 'hummus',\n",
       " 'ice_cream',\n",
       " 'lasagna',\n",
       " 'lobster_bisque',\n",
       " 'lobster_roll_sandwich',\n",
       " 'macaroni_and_cheese',\n",
       " 'macarons',\n",
       " 'miso_soup',\n",
       " 'mussels',\n",
       " 'nachos',\n",
       " 'omelette',\n",
       " 'onion_rings',\n",
       " 'oysters',\n",
       " 'pad_thai',\n",
       " 'paella',\n",
       " 'pancakes',\n",
       " 'panna_cotta',\n",
       " 'peking_duck',\n",
       " 'pho',\n",
       " 'pizza',\n",
       " 'pork_chop',\n",
       " 'poutine',\n",
       " 'prime_rib',\n",
       " 'pulled_pork_sandwich',\n",
       " 'ramen',\n",
       " 'ravioli',\n",
       " 'red_velvet_cake',\n",
       " 'risotto',\n",
       " 'samosa',\n",
       " 'sashimi',\n",
       " 'scallops',\n",
       " 'seaweed_salad',\n",
       " 'shrimp_and_grits',\n",
       " 'spaghetti_bolognese',\n",
       " 'spaghetti_carbonara',\n",
       " 'spring_rolls',\n",
       " 'steak',\n",
       " 'strawberry_shortcake',\n",
       " 'sushi',\n",
       " 'tacos',\n",
       " 'takoyaki',\n",
       " 'tiramisu',\n",
       " 'tuna_tartare',\n",
       " 'waffles']"
      ]
     },
     "execution_count": 7,
     "metadata": {},
     "output_type": "execute_result"
    }
   ],
   "source": [
    "classes = ['macarons', 'french_toast', 'lobster_bisque', 'prime_rib', 'pork_chop', 'guacamole', 'baby_back_ribs', \n",
    "           'mussels', 'beef_carpaccio', 'poutine', 'hot_and_sour_soup', 'seaweed_salad', 'foie_gras', 'dumplings',\n",
    "           'peking_duck', 'takoyaki', 'bibimbap', 'falafel', 'pulled_pork_sandwich', 'lobster_roll_sandwich',\n",
    "           'carrot_cake', 'beet_salad', 'panna_cotta', 'donuts', 'red_velvet_cake', 'grilled_cheese_sandwich',\n",
    "           'cannoli', 'spring_rolls', 'shrimp_and_grits', 'clam_chowder', 'omelette', 'fried_calamari', \n",
    "           'caprese_salad', 'oysters', 'scallops', 'ramen', 'grilled_salmon', 'croque_madame', 'filet_mignon',\n",
    "           'hamburger', 'spaghetti_carbonara', 'miso_soup', 'bread_pudding', 'lasagna', 'crab_cakes', 'cheesecake',\n",
    "           'spaghetti_bolognese', 'cup_cakes', 'creme_brulee', 'waffles', 'fish_and_chips', 'paella',\n",
    "           'macaroni_and_cheese', 'chocolate_mousse', 'ravioli', 'chicken_curry', 'caesar_salad', 'nachos',\n",
    "           'tiramisu', 'frozen_yogurt', 'ice_cream', 'risotto', 'club_sandwich', 'strawberry_shortcake', 'steak', \n",
    "           'churros', 'garlic_bread', 'baklava', 'bruschetta', 'hummus', 'chicken_wings', 'greek_salad', \n",
    "           'tuna_tartare', 'chocolate_cake', 'gyoza', 'eggs_benedict', 'deviled_eggs', 'samosa', 'sushi',\n",
    "           'breakfast_burrito', 'ceviche', 'beef_tartare', 'apple_pie', '.DS_Store', 'huevos_rancheros', 'beignets', \n",
    "           'pizza', 'edamame', 'french_onion_soup', 'hot_dog', 'tacos', 'chicken_quesadilla', 'pho', 'gnocchi', \n",
    "           'pancakes', 'fried_rice', 'cheese_plate', 'onion_rings', 'escargots', 'sashimi', 'pad_thai', 'french_fries']\n",
    "classes.sort()\n",
    "print(len(classes))\n",
    "classes\n",
    "classes = classes[1:]\n",
    "print(len(classes))\n",
    "classes"
   ]
  },
  {
   "cell_type": "code",
   "execution_count": 8,
   "metadata": {},
   "outputs": [
    {
     "data": {
      "text/plain": [
       "['Apple Pie: ~2.5 calories per gram',\n",
       " 'Baby Back Ribs: ~3.5 calories per gram',\n",
       " 'Baklava: ~5 calories per gram',\n",
       " 'Beef Carpaccio: ~2 calories per gram',\n",
       " 'Beef Tartare: ~2.5 calories per gram',\n",
       " 'Beet Salad: ~0.5 calories per gram',\n",
       " 'Beignets: ~3.5 calories per gram',\n",
       " 'Bibimbap: ~1.5 calories per gram',\n",
       " 'Bread Pudding: ~2.5 calories per gram',\n",
       " 'Breakfast Burrito: ~2 calories per gram',\n",
       " 'Bruschetta: ~1 calorie per gram',\n",
       " 'Caesar Salad: ~0.5 calories per gram',\n",
       " 'Cannoli: ~3.5 calories per gram',\n",
       " 'Caprese Salad: ~1 calorie per gram',\n",
       " 'Carrot Cake: ~3.5 calories per gram',\n",
       " 'Ceviche: ~0.5 calories per gram',\n",
       " 'Cheese Plate: ~3.5 calories per gram',\n",
       " 'Cheesecake: ~3.5 calories per gram',\n",
       " 'Chicken Curry: ~1.5 calories per gram',\n",
       " 'Chicken Quesadilla: ~2.5 calories per gram',\n",
       " 'Chicken Wings: ~3 calories per gram',\n",
       " 'Chocolate Cake: ~4 calories per gram',\n",
       " 'Chocolate Mousse: ~3 calories per gram',\n",
       " 'Churros: ~4 calories per gram',\n",
       " 'Clam Chowder: ~1.5 calories per gram',\n",
       " 'Club Sandwich: ~2.5 calories per gram',\n",
       " 'Crab Cakes: ~2 calories per gram',\n",
       " 'Creme Brulee: ~3.5 calories per gram',\n",
       " 'Croque Madame: ~3 calories per gram',\n",
       " 'Cupcakes: ~3.5 calories per gram',\n",
       " 'Deviled Eggs: ~1 calorie per gram',\n",
       " 'Donuts: ~4 calories per gram',\n",
       " 'Dumplings: ~2.5 calories per gram',\n",
       " 'Edamame: ~1 calorie per gram',\n",
       " 'Eggs Benedict: ~2.5 calories per gram',\n",
       " 'Escargots: ~1 calorie per gram',\n",
       " 'Falafel: ~2 calories per gram',\n",
       " 'Filet Mignon: ~2.5 calories per gram',\n",
       " 'Fish and Chips: ~2.5 calories per gram',\n",
       " 'Foie Gras: ~4.5 calories per gram',\n",
       " 'French Fries: ~3.5 calories per gram',\n",
       " 'French Onion Soup: ~1 calorie per gram',\n",
       " 'French Toast: ~2 calories per gram',\n",
       " 'Fried Calamari: ~2.5 calories per gram',\n",
       " 'Fried Rice: ~1.5 calories per gram',\n",
       " 'Frozen Yogurt: ~1 calorie per gram',\n",
       " 'Garlic Bread: ~4 calories per gram',\n",
       " 'Gnocchi: ~1.5 calories per gram',\n",
       " 'Greek Salad: ~0.5 calories per gram',\n",
       " 'Grilled Cheese Sandwich: ~3 calories per gram',\n",
       " 'Grilled Salmon: ~2 calories per gram',\n",
       " 'Guacamole: ~2 calories per gram',\n",
       " 'Gyoza: ~2 calories per gram',\n",
       " 'Hamburger: ~3.5 calories per gram',\n",
       " 'Hot and Sour Soup: ~0.5 calories per gram',\n",
       " 'Hot Dog: ~3.5 calories per gram',\n",
       " 'Huevos Rancheros: ~2 calories per gram',\n",
       " 'Hummus: ~1.5 calories per gram',\n",
       " 'Ice Cream: ~2 calories per gram',\n",
       " 'Lasagna: ~1.5 calories per gram',\n",
       " 'Lobster Bisque: ~1 calorie per gram',\n",
       " 'Lobster Roll Sandwich: ~2.5 calories per gram',\n",
       " 'Macaroni and Cheese: ~3 calories per gram',\n",
       " 'Macarons: ~4 calories per gram',\n",
       " 'Miso Soup: ~0.5 calories per gram',\n",
       " 'Mussels: ~0.5 calories per gram',\n",
       " 'Nachos: ~2.5 calories per gram',\n",
       " 'Omelette: ~1.5 calories per gram',\n",
       " 'Onion Rings: ~2.5 calories per gram',\n",
       " 'Oysters: ~0.5 calories per gram',\n",
       " 'Pad Thai: ~2 calories per gram',\n",
       " 'Paella: ~1.5 calories per gram',\n",
       " 'Pancakes: ~2 calories per gram',\n",
       " 'Panna Cotta: ~3.5 calories per gram',\n",
       " 'Peking Duck: ~4 calories per gram',\n",
       " 'Pho: ~1 calorie per gram',\n",
       " 'Pizza: ~2.5 calories per gram',\n",
       " 'Pork Chop: ~2.5 calories per gram',\n",
       " 'Poutine: ~2.5 calories per gram',\n",
       " 'Prime Rib: ~2.5 calories per gram',\n",
       " 'Pulled Pork Sandwich: ~2.5 calories per gram',\n",
       " 'Ramen: ~1 calorie per gram',\n",
       " 'Ravioli: ~1.5 calories per gram',\n",
       " 'Red Velvet Cake: ~4 calories per gram',\n",
       " 'Risotto: ~1.5 calories per gram',\n",
       " 'Samosa: ~2 calories per gram',\n",
       " 'Sashimi: ~1 calorie per gram',\n",
       " 'Scallops: ~1 calorie per gram',\n",
       " 'Seaweed Salad: ~0.5 calories per gram',\n",
       " 'Shrimp and Grits: ~2 calories per gram',\n",
       " 'Spaghetti Bolognese: ~1.5 calories per gram',\n",
       " 'Spaghetti Carbonara: ~2 calories per gram',\n",
       " 'Spring Rolls: ~1.5 calories per gram',\n",
       " 'Steak: ~2.5 calories per gram',\n",
       " 'Strawberry Shortcake: ~3.5 calories per gram',\n",
       " 'Sushi: ~1 calorie per gram',\n",
       " 'Tacos: ~2 calories per gram',\n",
       " 'Takoyaki: ~2.5 calories per gram',\n",
       " 'Tiramisu: ~3 calories per gram',\n",
       " 'Tuna Tartare: ~1.5 calories per gram',\n",
       " 'Waffles: ~2 calories per gram']"
      ]
     },
     "execution_count": 8,
     "metadata": {},
     "output_type": "execute_result"
    }
   ],
   "source": [
    "s = \"\"\"Apple Pie: ~2.5 calories per gram\n",
    "Baby Back Ribs: ~3.5 calories per gram\n",
    "Baklava: ~5 calories per gram\n",
    "Beef Carpaccio: ~2 calories per gram\n",
    "Beef Tartare: ~2.5 calories per gram\n",
    "Beet Salad: ~0.5 calories per gram\n",
    "Beignets: ~3.5 calories per gram\n",
    "Bibimbap: ~1.5 calories per gram\n",
    "Bread Pudding: ~2.5 calories per gram\n",
    "Breakfast Burrito: ~2 calories per gram\n",
    "Bruschetta: ~1 calorie per gram\n",
    "Caesar Salad: ~0.5 calories per gram\n",
    "Cannoli: ~3.5 calories per gram\n",
    "Caprese Salad: ~1 calorie per gram\n",
    "Carrot Cake: ~3.5 calories per gram\n",
    "Ceviche: ~0.5 calories per gram\n",
    "Cheese Plate: ~3.5 calories per gram\n",
    "Cheesecake: ~3.5 calories per gram\n",
    "Chicken Curry: ~1.5 calories per gram\n",
    "Chicken Quesadilla: ~2.5 calories per gram\n",
    "Chicken Wings: ~3 calories per gram\n",
    "Chocolate Cake: ~4 calories per gram\n",
    "Chocolate Mousse: ~3 calories per gram\n",
    "Churros: ~4 calories per gram\n",
    "Clam Chowder: ~1.5 calories per gram\n",
    "Club Sandwich: ~2.5 calories per gram\n",
    "Crab Cakes: ~2 calories per gram\n",
    "Creme Brulee: ~3.5 calories per gram\n",
    "Croque Madame: ~3 calories per gram\n",
    "Cupcakes: ~3.5 calories per gram\n",
    "Deviled Eggs: ~1 calorie per gram\n",
    "Donuts: ~4 calories per gram\n",
    "Dumplings: ~2.5 calories per gram\n",
    "Edamame: ~1 calorie per gram\n",
    "Eggs Benedict: ~2.5 calories per gram\n",
    "Escargots: ~1 calorie per gram\n",
    "Falafel: ~2 calories per gram\n",
    "Filet Mignon: ~2.5 calories per gram\n",
    "Fish and Chips: ~2.5 calories per gram\n",
    "Foie Gras: ~4.5 calories per gram\n",
    "French Fries: ~3.5 calories per gram\n",
    "French Onion Soup: ~1 calorie per gram\n",
    "French Toast: ~2 calories per gram\n",
    "Fried Calamari: ~2.5 calories per gram\n",
    "Fried Rice: ~1.5 calories per gram\n",
    "Frozen Yogurt: ~1 calorie per gram\n",
    "Garlic Bread: ~4 calories per gram\n",
    "Gnocchi: ~1.5 calories per gram\n",
    "Greek Salad: ~0.5 calories per gram\n",
    "Grilled Cheese Sandwich: ~3 calories per gram\n",
    "Grilled Salmon: ~2 calories per gram\n",
    "Guacamole: ~2 calories per gram\n",
    "Gyoza: ~2 calories per gram\n",
    "Hamburger: ~3.5 calories per gram\n",
    "Hot and Sour Soup: ~0.5 calories per gram\n",
    "Hot Dog: ~3.5 calories per gram\n",
    "Huevos Rancheros: ~2 calories per gram\n",
    "Hummus: ~1.5 calories per gram\n",
    "Ice Cream: ~2 calories per gram\n",
    "Lasagna: ~1.5 calories per gram\n",
    "Lobster Bisque: ~1 calorie per gram\n",
    "Lobster Roll Sandwich: ~2.5 calories per gram\n",
    "Macaroni and Cheese: ~3 calories per gram\n",
    "Macarons: ~4 calories per gram\n",
    "Miso Soup: ~0.5 calories per gram\n",
    "Mussels: ~0.5 calories per gram\n",
    "Nachos: ~2.5 calories per gram\n",
    "Omelette: ~1.5 calories per gram\n",
    "Onion Rings: ~2.5 calories per gram\n",
    "Oysters: ~0.5 calories per gram\n",
    "Pad Thai: ~2 calories per gram\n",
    "Paella: ~1.5 calories per gram\n",
    "Pancakes: ~2 calories per gram\n",
    "Panna Cotta: ~3.5 calories per gram\n",
    "Peking Duck: ~4 calories per gram\n",
    "Pho: ~1 calorie per gram\n",
    "Pizza: ~2.5 calories per gram\n",
    "Pork Chop: ~2.5 calories per gram\n",
    "Poutine: ~2.5 calories per gram\n",
    "Prime Rib: ~2.5 calories per gram\n",
    "Pulled Pork Sandwich: ~2.5 calories per gram\n",
    "Ramen: ~1 calorie per gram\n",
    "Ravioli: ~1.5 calories per gram\n",
    "Red Velvet Cake: ~4 calories per gram\n",
    "Risotto: ~1.5 calories per gram\n",
    "Samosa: ~2 calories per gram\n",
    "Sashimi: ~1 calorie per gram\n",
    "Scallops: ~1 calorie per gram\n",
    "Seaweed Salad: ~0.5 calories per gram\n",
    "Shrimp and Grits: ~2 calories per gram\n",
    "Spaghetti Bolognese: ~1.5 calories per gram\n",
    "Spaghetti Carbonara: ~2 calories per gram\n",
    "Spring Rolls: ~1.5 calories per gram\n",
    "Steak: ~2.5 calories per gram\n",
    "Strawberry Shortcake: ~3.5 calories per gram\n",
    "Sushi: ~1 calorie per gram\n",
    "Tacos: ~2 calories per gram\n",
    "Takoyaki: ~2.5 calories per gram\n",
    "Tiramisu: ~3 calories per gram\n",
    "Tuna Tartare: ~1.5 calories per gram\n",
    "Waffles: ~2 calories per gram\n",
    "\"\"\"\n",
    "calories = s.splitlines()\n",
    "calories"
   ]
  },
  {
   "cell_type": "code",
   "execution_count": 2,
   "metadata": {},
   "outputs": [
    {
     "name": "stdout",
     "output_type": "stream",
     "text": [
      "Found 90900 images belonging to 101 classes.\n",
      "Found 10100 images belonging to 101 classes.\n"
     ]
    }
   ],
   "source": [
    "train_datagen = ImageDataGenerator(rescale = 1./255,\n",
    "                                  validation_split = 0.1)\n",
    "\n",
    "train_data = train_datagen.flow_from_directory('food-101/images/',\n",
    "                                              target_size = (224,224),\n",
    "                                              batch_size=100,\n",
    "                                              class_mode='categorical',\n",
    "                                              shuffle=True,\n",
    "                                              subset='training')\n",
    "\n",
    "test_data = train_datagen.flow_from_directory('food-101/images/',\n",
    "                                               target_size=(224,224),\n",
    "                                               batch_size=100,\n",
    "                                               class_mode='categorical',\n",
    "                                               shuffle=False,\n",
    "                                               subset='validation')"
   ]
  },
  {
   "cell_type": "code",
   "execution_count": 15,
   "metadata": {},
   "outputs": [
    {
     "data": {
      "text/plain": [
       "(224, 224, 3)"
      ]
     },
     "execution_count": 15,
     "metadata": {},
     "output_type": "execute_result"
    }
   ],
   "source": [
    "train_data.image_shape"
   ]
  },
  {
   "cell_type": "code",
   "execution_count": 16,
   "metadata": {},
   "outputs": [
    {
     "name": "stdout",
     "output_type": "stream",
     "text": [
      "[  0   1   2   3   4   5   6   7   8   9  10  11  12  13  14  15  16  17\n",
      "  18  19  20  21  22  23  24  25  26  27  28  29  30  31  32  33  34  35\n",
      "  36  37  38  39  40  41  42  43  44  45  46  47  48  49  50  51  52  53\n",
      "  54  55  56  57  58  59  60  61  62  63  64  65  66  67  68  69  70  71\n",
      "  72  73  74  75  76  77  78  79  80  81  82  83  84  85  86  87  88  89\n",
      "  90  91  92  93  94  95  96  97  98  99 100]\n"
     ]
    },
    {
     "data": {
      "text/plain": [
       "{'apple_pie': 0,\n",
       " 'baby_back_ribs': 1,\n",
       " 'baklava': 2,\n",
       " 'beef_carpaccio': 3,\n",
       " 'beef_tartare': 4,\n",
       " 'beet_salad': 5,\n",
       " 'beignets': 6,\n",
       " 'bibimbap': 7,\n",
       " 'bread_pudding': 8,\n",
       " 'breakfast_burrito': 9,\n",
       " 'bruschetta': 10,\n",
       " 'caesar_salad': 11,\n",
       " 'cannoli': 12,\n",
       " 'caprese_salad': 13,\n",
       " 'carrot_cake': 14,\n",
       " 'ceviche': 15,\n",
       " 'cheese_plate': 16,\n",
       " 'cheesecake': 17,\n",
       " 'chicken_curry': 18,\n",
       " 'chicken_quesadilla': 19,\n",
       " 'chicken_wings': 20,\n",
       " 'chocolate_cake': 21,\n",
       " 'chocolate_mousse': 22,\n",
       " 'churros': 23,\n",
       " 'clam_chowder': 24,\n",
       " 'club_sandwich': 25,\n",
       " 'crab_cakes': 26,\n",
       " 'creme_brulee': 27,\n",
       " 'croque_madame': 28,\n",
       " 'cup_cakes': 29,\n",
       " 'deviled_eggs': 30,\n",
       " 'donuts': 31,\n",
       " 'dumplings': 32,\n",
       " 'edamame': 33,\n",
       " 'eggs_benedict': 34,\n",
       " 'escargots': 35,\n",
       " 'falafel': 36,\n",
       " 'filet_mignon': 37,\n",
       " 'fish_and_chips': 38,\n",
       " 'foie_gras': 39,\n",
       " 'french_fries': 40,\n",
       " 'french_onion_soup': 41,\n",
       " 'french_toast': 42,\n",
       " 'fried_calamari': 43,\n",
       " 'fried_rice': 44,\n",
       " 'frozen_yogurt': 45,\n",
       " 'garlic_bread': 46,\n",
       " 'gnocchi': 47,\n",
       " 'greek_salad': 48,\n",
       " 'grilled_cheese_sandwich': 49,\n",
       " 'grilled_salmon': 50,\n",
       " 'guacamole': 51,\n",
       " 'gyoza': 52,\n",
       " 'hamburger': 53,\n",
       " 'hot_and_sour_soup': 54,\n",
       " 'hot_dog': 55,\n",
       " 'huevos_rancheros': 56,\n",
       " 'hummus': 57,\n",
       " 'ice_cream': 58,\n",
       " 'lasagna': 59,\n",
       " 'lobster_bisque': 60,\n",
       " 'lobster_roll_sandwich': 61,\n",
       " 'macaroni_and_cheese': 62,\n",
       " 'macarons': 63,\n",
       " 'miso_soup': 64,\n",
       " 'mussels': 65,\n",
       " 'nachos': 66,\n",
       " 'omelette': 67,\n",
       " 'onion_rings': 68,\n",
       " 'oysters': 69,\n",
       " 'pad_thai': 70,\n",
       " 'paella': 71,\n",
       " 'pancakes': 72,\n",
       " 'panna_cotta': 73,\n",
       " 'peking_duck': 74,\n",
       " 'pho': 75,\n",
       " 'pizza': 76,\n",
       " 'pork_chop': 77,\n",
       " 'poutine': 78,\n",
       " 'prime_rib': 79,\n",
       " 'pulled_pork_sandwich': 80,\n",
       " 'ramen': 81,\n",
       " 'ravioli': 82,\n",
       " 'red_velvet_cake': 83,\n",
       " 'risotto': 84,\n",
       " 'samosa': 85,\n",
       " 'sashimi': 86,\n",
       " 'scallops': 87,\n",
       " 'seaweed_salad': 88,\n",
       " 'shrimp_and_grits': 89,\n",
       " 'spaghetti_bolognese': 90,\n",
       " 'spaghetti_carbonara': 91,\n",
       " 'spring_rolls': 92,\n",
       " 'steak': 93,\n",
       " 'strawberry_shortcake': 94,\n",
       " 'sushi': 95,\n",
       " 'tacos': 96,\n",
       " 'takoyaki': 97,\n",
       " 'tiramisu': 98,\n",
       " 'tuna_tartare': 99,\n",
       " 'waffles': 100}"
      ]
     },
     "execution_count": 16,
     "metadata": {},
     "output_type": "execute_result"
    }
   ],
   "source": [
    "print(np.unique(train_data.labels))\n",
    "train_data.class_indices"
   ]
  },
  {
   "cell_type": "code",
   "execution_count": 17,
   "metadata": {},
   "outputs": [
    {
     "name": "stdout",
     "output_type": "stream",
     "text": [
      "Downloading data from https://storage.googleapis.com/tensorflow/keras-applications/densenet/densenet201_weights_tf_dim_ordering_tf_kernels_notop.h5\n",
      "\u001b[1m74836368/74836368\u001b[0m \u001b[32m━━━━━━━━━━━━━━━━━━━━\u001b[0m\u001b[37m\u001b[0m \u001b[1m41s\u001b[0m 1us/step\n"
     ]
    }
   ],
   "source": [
    "new_input = Input(shape=(224,224,3))\n",
    "base_model = DenseNet201(weights = 'imagenet',\n",
    "                        include_top = False,\n",
    "                        input_tensor = new_input)"
   ]
  },
  {
   "cell_type": "code",
   "execution_count": 18,
   "metadata": {},
   "outputs": [],
   "source": [
    "for layer in base_model.layers[:]:\n",
    "  layer.trainable = False"
   ]
  },
  {
   "cell_type": "code",
   "execution_count": 19,
   "metadata": {},
   "outputs": [
    {
     "data": {
      "text/html": [
       "<pre style=\"white-space:pre;overflow-x:auto;line-height:normal;font-family:Menlo,'DejaVu Sans Mono',consolas,'Courier New',monospace\"><span style=\"font-weight: bold\">Model: \"sequential\"</span>\n",
       "</pre>\n"
      ],
      "text/plain": [
       "\u001b[1mModel: \"sequential\"\u001b[0m\n"
      ]
     },
     "metadata": {},
     "output_type": "display_data"
    },
    {
     "data": {
      "text/html": [
       "<pre style=\"white-space:pre;overflow-x:auto;line-height:normal;font-family:Menlo,'DejaVu Sans Mono',consolas,'Courier New',monospace\">┏━━━━━━━━━━━━━━━━━━━━━━━━━━━━━━━━━━━━━━┳━━━━━━━━━━━━━━━━━━━━━━━━━━━━━┳━━━━━━━━━━━━━━━━━┓\n",
       "┃<span style=\"font-weight: bold\"> Layer (type)                         </span>┃<span style=\"font-weight: bold\"> Output Shape                </span>┃<span style=\"font-weight: bold\">         Param # </span>┃\n",
       "┡━━━━━━━━━━━━━━━━━━━━━━━━━━━━━━━━━━━━━━╇━━━━━━━━━━━━━━━━━━━━━━━━━━━━━╇━━━━━━━━━━━━━━━━━┩\n",
       "│ densenet201 (<span style=\"color: #0087ff; text-decoration-color: #0087ff\">Functional</span>)             │ (<span style=\"color: #00d7ff; text-decoration-color: #00d7ff\">None</span>, <span style=\"color: #00af00; text-decoration-color: #00af00\">7</span>, <span style=\"color: #00af00; text-decoration-color: #00af00\">7</span>, <span style=\"color: #00af00; text-decoration-color: #00af00\">1920</span>)          │      <span style=\"color: #00af00; text-decoration-color: #00af00\">18,321,984</span> │\n",
       "├──────────────────────────────────────┼─────────────────────────────┼─────────────────┤\n",
       "│ flatten (<span style=\"color: #0087ff; text-decoration-color: #0087ff\">Flatten</span>)                    │ (<span style=\"color: #00d7ff; text-decoration-color: #00d7ff\">None</span>, <span style=\"color: #00af00; text-decoration-color: #00af00\">94080</span>)               │               <span style=\"color: #00af00; text-decoration-color: #00af00\">0</span> │\n",
       "├──────────────────────────────────────┼─────────────────────────────┼─────────────────┤\n",
       "│ dense (<span style=\"color: #0087ff; text-decoration-color: #0087ff\">Dense</span>)                        │ (<span style=\"color: #00d7ff; text-decoration-color: #00d7ff\">None</span>, <span style=\"color: #00af00; text-decoration-color: #00af00\">1000</span>)                │      <span style=\"color: #00af00; text-decoration-color: #00af00\">94,081,000</span> │\n",
       "├──────────────────────────────────────┼─────────────────────────────┼─────────────────┤\n",
       "│ dense_1 (<span style=\"color: #0087ff; text-decoration-color: #0087ff\">Dense</span>)                      │ (<span style=\"color: #00d7ff; text-decoration-color: #00d7ff\">None</span>, <span style=\"color: #00af00; text-decoration-color: #00af00\">1000</span>)                │       <span style=\"color: #00af00; text-decoration-color: #00af00\">1,001,000</span> │\n",
       "├──────────────────────────────────────┼─────────────────────────────┼─────────────────┤\n",
       "│ dense_2 (<span style=\"color: #0087ff; text-decoration-color: #0087ff\">Dense</span>)                      │ (<span style=\"color: #00d7ff; text-decoration-color: #00d7ff\">None</span>, <span style=\"color: #00af00; text-decoration-color: #00af00\">101</span>)                 │         <span style=\"color: #00af00; text-decoration-color: #00af00\">101,101</span> │\n",
       "└──────────────────────────────────────┴─────────────────────────────┴─────────────────┘\n",
       "</pre>\n"
      ],
      "text/plain": [
       "┏━━━━━━━━━━━━━━━━━━━━━━━━━━━━━━━━━━━━━━┳━━━━━━━━━━━━━━━━━━━━━━━━━━━━━┳━━━━━━━━━━━━━━━━━┓\n",
       "┃\u001b[1m \u001b[0m\u001b[1mLayer (type)                        \u001b[0m\u001b[1m \u001b[0m┃\u001b[1m \u001b[0m\u001b[1mOutput Shape               \u001b[0m\u001b[1m \u001b[0m┃\u001b[1m \u001b[0m\u001b[1m        Param #\u001b[0m\u001b[1m \u001b[0m┃\n",
       "┡━━━━━━━━━━━━━━━━━━━━━━━━━━━━━━━━━━━━━━╇━━━━━━━━━━━━━━━━━━━━━━━━━━━━━╇━━━━━━━━━━━━━━━━━┩\n",
       "│ densenet201 (\u001b[38;5;33mFunctional\u001b[0m)             │ (\u001b[38;5;45mNone\u001b[0m, \u001b[38;5;34m7\u001b[0m, \u001b[38;5;34m7\u001b[0m, \u001b[38;5;34m1920\u001b[0m)          │      \u001b[38;5;34m18,321,984\u001b[0m │\n",
       "├──────────────────────────────────────┼─────────────────────────────┼─────────────────┤\n",
       "│ flatten (\u001b[38;5;33mFlatten\u001b[0m)                    │ (\u001b[38;5;45mNone\u001b[0m, \u001b[38;5;34m94080\u001b[0m)               │               \u001b[38;5;34m0\u001b[0m │\n",
       "├──────────────────────────────────────┼─────────────────────────────┼─────────────────┤\n",
       "│ dense (\u001b[38;5;33mDense\u001b[0m)                        │ (\u001b[38;5;45mNone\u001b[0m, \u001b[38;5;34m1000\u001b[0m)                │      \u001b[38;5;34m94,081,000\u001b[0m │\n",
       "├──────────────────────────────────────┼─────────────────────────────┼─────────────────┤\n",
       "│ dense_1 (\u001b[38;5;33mDense\u001b[0m)                      │ (\u001b[38;5;45mNone\u001b[0m, \u001b[38;5;34m1000\u001b[0m)                │       \u001b[38;5;34m1,001,000\u001b[0m │\n",
       "├──────────────────────────────────────┼─────────────────────────────┼─────────────────┤\n",
       "│ dense_2 (\u001b[38;5;33mDense\u001b[0m)                      │ (\u001b[38;5;45mNone\u001b[0m, \u001b[38;5;34m101\u001b[0m)                 │         \u001b[38;5;34m101,101\u001b[0m │\n",
       "└──────────────────────────────────────┴─────────────────────────────┴─────────────────┘\n"
      ]
     },
     "metadata": {},
     "output_type": "display_data"
    },
    {
     "data": {
      "text/html": [
       "<pre style=\"white-space:pre;overflow-x:auto;line-height:normal;font-family:Menlo,'DejaVu Sans Mono',consolas,'Courier New',monospace\"><span style=\"font-weight: bold\"> Total params: </span><span style=\"color: #00af00; text-decoration-color: #00af00\">113,505,085</span> (432.99 MB)\n",
       "</pre>\n"
      ],
      "text/plain": [
       "\u001b[1m Total params: \u001b[0m\u001b[38;5;34m113,505,085\u001b[0m (432.99 MB)\n"
      ]
     },
     "metadata": {},
     "output_type": "display_data"
    },
    {
     "data": {
      "text/html": [
       "<pre style=\"white-space:pre;overflow-x:auto;line-height:normal;font-family:Menlo,'DejaVu Sans Mono',consolas,'Courier New',monospace\"><span style=\"font-weight: bold\"> Trainable params: </span><span style=\"color: #00af00; text-decoration-color: #00af00\">95,183,101</span> (363.09 MB)\n",
       "</pre>\n"
      ],
      "text/plain": [
       "\u001b[1m Trainable params: \u001b[0m\u001b[38;5;34m95,183,101\u001b[0m (363.09 MB)\n"
      ]
     },
     "metadata": {},
     "output_type": "display_data"
    },
    {
     "data": {
      "text/html": [
       "<pre style=\"white-space:pre;overflow-x:auto;line-height:normal;font-family:Menlo,'DejaVu Sans Mono',consolas,'Courier New',monospace\"><span style=\"font-weight: bold\"> Non-trainable params: </span><span style=\"color: #00af00; text-decoration-color: #00af00\">18,321,984</span> (69.89 MB)\n",
       "</pre>\n"
      ],
      "text/plain": [
       "\u001b[1m Non-trainable params: \u001b[0m\u001b[38;5;34m18,321,984\u001b[0m (69.89 MB)\n"
      ]
     },
     "metadata": {},
     "output_type": "display_data"
    }
   ],
   "source": [
    "model_dn = Sequential()\n",
    "model_dn.add(base_model)\n",
    "model_dn.add(Flatten())\n",
    "model_dn.add(Dense(1000, activation='relu'))\n",
    "model_dn.add(Dense(1000, activation='relu'))\n",
    "model_dn.add(Dense(101, activation='softmax'))\n",
    "model_dn.summary()"
   ]
  },
  {
   "cell_type": "code",
   "execution_count": null,
   "metadata": {},
   "outputs": [
    {
     "name": "stderr",
     "output_type": "stream",
     "text": [
      "C:\\Users\\ppmis\\AppData\\Local\\Programs\\Python\\Python311\\Lib\\site-packages\\keras\\src\\trainers\\data_adapters\\py_dataset_adapter.py:121: UserWarning: Your `PyDataset` class should call `super().__init__(**kwargs)` in its constructor. `**kwargs` can include `workers`, `use_multiprocessing`, `max_queue_size`. Do not pass these arguments to `fit()`, as they will be ignored.\n",
      "  self._warn_if_super_not_called()\n"
     ]
    },
    {
     "name": "stdout",
     "output_type": "stream",
     "text": [
      "Epoch 1/25\n"
     ]
    },
    {
     "name": "stderr",
     "output_type": "stream",
     "text": [
      "C:\\Users\\ppmis\\AppData\\Local\\Programs\\Python\\Python311\\Lib\\site-packages\\keras\\src\\models\\functional.py:237: UserWarning: The structure of `inputs` doesn't match the expected structure.\n",
      "Expected: ['keras_tensor']\n",
      "Received: inputs=Tensor(shape=(None, 224, 224, 3))\n",
      "  warnings.warn(msg)\n"
     ]
    },
    {
     "name": "stdout",
     "output_type": "stream",
     "text": [
      "\u001b[1m402/909\u001b[0m \u001b[32m━━━━━━━━\u001b[0m\u001b[37m━━━━━━━━━━━━\u001b[0m \u001b[1m1:09:19\u001b[0m 8s/step - accuracy: 0.2013 - loss: 10.2187"
     ]
    }
   ],
   "source": [
    "model_dn.compile(loss='categorical_crossentropy',optimizer=Adam(learning_rate=0.001), metrics=['accuracy'])\n",
    "\n",
    "results_dn = model_dn.fit(train_data, epochs=15, validation_data=test_data,\n",
    "                  steps_per_epoch=len(train_data), validation_steps=len(test_data),\n",
    "                  callbacks = EarlyStopping(patience=5, monitor='val_accuracy',restore_best_weights=True)\n",
    "                  )"
   ]
  },
  {
   "cell_type": "code",
   "execution_count": null,
   "metadata": {},
   "outputs": [],
   "source": [
    "vgg = VGG19(weights='imagenet', include_top=False, input_shape=(224,224,3))\n",
    "vgg.summary()"
   ]
  },
  {
   "cell_type": "code",
   "execution_count": null,
   "metadata": {},
   "outputs": [],
   "source": [
    "for layer in vgg.layers:\n",
    "    layer.trainable = False\n",
    "vgg.summary()"
   ]
  },
  {
   "cell_type": "code",
   "execution_count": null,
   "metadata": {},
   "outputs": [],
   "source": [
    "model_vgg = Sequential()\n",
    "model_vgg.add(vgg)\n",
    "model_vgg.add(Flatten())\n",
    "model_vgg.add(Dense(4096, activation='relu'))\n",
    "model_vgg.add(Dense(4096, activation='relu'))\n",
    "model_vgg.add(Dropout(0.25))\n",
    "model_vgg.add(Dense(101, activation='softmax'))\n",
    "model_vgg.summary()"
   ]
  },
  {
   "cell_type": "code",
   "execution_count": null,
   "metadata": {},
   "outputs": [],
   "source": [
    "model_vgg.compile(loss='categorical_crossentropy',optimizer=Adam(learning_rate=0.001), metrics=['accuracy'])\n",
    "\n",
    "results_vgg = model_vgg.fit(train_data, epochs=5, validation_data=test_data,\n",
    "                  steps_per_epoch=len(train_data), validation_steps=len(test_data),\n",
    "                  callbacks = EarlyStopping(patience=5, monitor='val_accuracy',restore_best_weights=True)\n",
    "                  )"
   ]
  },
  {
   "cell_type": "code",
   "execution_count": null,
   "metadata": {},
   "outputs": [],
   "source": [
    "from keras.applications import InceptionV3\n",
    "from keras.layers import Input, AveragePooling2D, Dropout, Flatten, Dense\n",
    "from keras.models import Model\n",
    "from keras.regularizers import l2\n",
    "\n",
    "\n",
    "inception = InceptionV3(weights='imagenet', include_top=False, input_tensor=Input(shape=(224, 224, 3)))\n",
    "\n",
    "x = inception.output\n",
    "x = AveragePooling2D(pool_size=(2, 2))(x)\n",
    "x = Dropout(0.5)(x)\n",
    "x = Flatten()(x)\n",
    "x = Dense(101, kernel_initializer='glorot_uniform', kernel_regularizer=l2(0.0005), activation='softmax')(x)\n",
    "\n",
    "model_incep = Model(inputs=inception.input, outputs=x)\n",
    "model_incep.summary()\n"
   ]
  },
  {
   "cell_type": "code",
   "execution_count": null,
   "metadata": {},
   "outputs": [],
   "source": [
    "from keras.optimizers import SGD\n",
    "\n",
    "opt = SGD(learning_rate=0.1, momentum=0.9)\n",
    "model_incep.compile(optimizer=opt, loss='categorical_crossentropy', metrics=['accuracy'])\n"
   ]
  },
  {
   "cell_type": "code",
   "execution_count": null,
   "metadata": {},
   "outputs": [],
   "source": [
    "result_incep = model_incep.fit(train_data,epochs=10,validation_data=test_data,steps_per_epoch=len(train_data),validation_steps=len(test_data),callbacks=[EarlyStopping(patience=5,monitor='val_accuracy',restore_best_weights=True)])"
   ]
  },
  {
   "cell_type": "markdown",
   "metadata": {},
   "source": [
    "DenseNet201 is best option by observing comparisons"
   ]
  },
  {
   "cell_type": "code",
   "execution_count": null,
   "metadata": {},
   "outputs": [],
   "source": [
    "donuts = load_img(\"food-101/images/donuts/2563686.jpg\",target_size=(224,224,3))\n",
    "donuts"
   ]
  },
  {
   "cell_type": "code",
   "execution_count": null,
   "metadata": {},
   "outputs": [],
   "source": [
    "pizza = load_img(\"food-101/images/pizza/768276.jpg\",target_size=(224,224,3))\n",
    "pizza"
   ]
  },
  {
   "cell_type": "code",
   "execution_count": null,
   "metadata": {},
   "outputs": [],
   "source": [
    "ice_cream = load_img(\"food-101/images/ice_cream/579407.jpg\",target_size=(224,224))\n",
    "ice_cream"
   ]
  },
  {
   "cell_type": "code",
   "execution_count": null,
   "metadata": {},
   "outputs": [],
   "source": [
    "donuts = img_to_array(donuts)\n",
    "pizza = img_to_array(pizza)\n",
    "ice_cream = img_to_array(ice_cream)\n",
    "\n",
    "donuts = donuts/255\n",
    "pizza = pizza/255\n",
    "ice_cream = ice_cream/255\n",
    "\n",
    "\n",
    "donuts = donuts.reshape(1,224,224,3)\n",
    "pizza = pizza.reshape(1,224,224,3)\n",
    "ice_cream = ice_cream.reshape(1,224,224,3)"
   ]
  },
  {
   "cell_type": "code",
   "execution_count": null,
   "metadata": {},
   "outputs": [],
   "source": [
    "p1 = (model_dn.predict(donuts)).argmax()\n",
    "\n",
    "print(\"Class \",p1,\": \",classes[p1],sep='')"
   ]
  },
  {
   "cell_type": "code",
   "execution_count": null,
   "metadata": {},
   "outputs": [],
   "source": [
    "p2 = (model_dn.predict(pizza)).argmax()\n",
    "\n",
    "print(\"Class \",p2,\": \",classes[p2],sep='')"
   ]
  },
  {
   "cell_type": "code",
   "execution_count": null,
   "metadata": {},
   "outputs": [],
   "source": [
    "p3 = (model_dn.predict(ice_cream)).argmax()\n",
    "\n",
    "print(\"Class \",p3,\": \",classes[p3],sep='')"
   ]
  },
  {
   "cell_type": "code",
   "execution_count": null,
   "metadata": {},
   "outputs": [],
   "source": []
  }
 ],
 "metadata": {
  "kaggle": {
   "accelerator": "gpu",
   "dataSources": [
    {
     "datasetId": 8544,
     "sourceId": 11959,
     "sourceType": "datasetVersion"
    }
   ],
   "dockerImageVersionId": 30700,
   "isGpuEnabled": true,
   "isInternetEnabled": true,
   "language": "python",
   "sourceType": "notebook"
  },
  "kernelspec": {
   "display_name": "Python 3 (ipykernel)",
   "language": "python",
   "name": "python3"
  },
  "language_info": {
   "codemirror_mode": {
    "name": "ipython",
    "version": 3
   },
   "file_extension": ".py",
   "mimetype": "text/x-python",
   "name": "python",
   "nbconvert_exporter": "python",
   "pygments_lexer": "ipython3",
   "version": "3.11.3"
  }
 },
 "nbformat": 4,
 "nbformat_minor": 4
}
